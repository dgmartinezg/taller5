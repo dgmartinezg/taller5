{
 "cells": [
  {
   "cell_type": "code",
   "execution_count": 1,
   "metadata": {},
   "outputs": [
    {
     "name": "stdout",
     "output_type": "stream",
     "text": [
      "Using matplotlib backend: Qt5Agg\n",
      "Populating the interactive namespace from numpy and matplotlib\n"
     ]
    },
    {
     "name": "stderr",
     "output_type": "stream",
     "text": [
      "C:\\ProgramData\\Anaconda3\\lib\\site-packages\\IPython\\core\\magics\\pylab.py:160: UserWarning: pylab import has clobbered these variables: ['info', 'power', 'fft', 'linalg', 'random']\n",
      "`%matplotlib` prevents importing * from pylab and numpy\n",
      "  \"\\n`%matplotlib` prevents importing * from pylab and numpy\"\n"
     ]
    }
   ],
   "source": [
    "import scipy.ndimage as nd\n",
    "from scipy.misc import imread \n",
    "\n",
    "import numpy as np\n",
    "from numpy.linalg import inv,lstsq\n",
    "from pylab import *\n",
    "%pylab \n"
   ]
  },
  {
   "cell_type": "code",
   "execution_count": 138,
   "metadata": {},
   "outputs": [
    {
     "name": "stdout",
     "output_type": "stream",
     "text": [
      "6 6 [0.0, 15.716280608611157, 31.88323798320786, 51.28323798320786, 70.89526455128131, 94.17962065829806]\n"
     ]
    },
    {
     "data": {
      "image/png": "[encoded data removed]",
      "text/plain": [
       "<Figure size 432x288 with 1 Axes>"
      ]
     },
     "metadata": {},
     "output_type": "display_data"
    },
    {
     "name": "stdout",
     "output_type": "stream",
     "text": [
      "[  6.26245398 161.01602347 -71.63911566]\n"
     ]
    }
   ],
   "source": [
    "\n",
    "imam=imread(\"Bolas1.tif\")\n",
    "imr=imread(\"Bolas2.tif\")\n",
    "\n",
    "imflam=np.asarray(imam,dtype=np.float32) #las vuelve flotante\n",
    "imflr=np.asarray(imr,dtype=np.float32) #las vuelve flotante\n",
    "\n",
    "# las convierte a escalas de grises \n",
    "imbgam=(imflam[:,:,0]+imflam[:,:,1]+imflam[:,:,2])/3\n",
    "imbgr=(imflr[:,:,0]+imflr[:,:,1]+imflr[:,:,2])/3\n",
    "\n",
    "# quita el ruido \n",
    "im_filam=nd.median_filter(imbgam,(3,3))\n",
    "im_filr=nd.median_filter(imbgr,(3,3))\n",
    "\n",
    "#binarizar\n",
    "imbinam=where(im_filam<100,0,255)\n",
    "imbinr=where(im_filr<40,0,255)\n",
    "\n",
    "#imshow(imbinr,cmap=\"gray\")\n",
    "\n",
    "#darle numero a cada bola para econtrar asi el centro de masa\n",
    "imnumam,nam=nd.label(imbinam)\n",
    "imnumr,nr=nd.label(imbinr)\n",
    "#imshow(imnumr,cmap=\"gray\")\n",
    "#colorbar()\n",
    "\n",
    "#encuentra los certro de masa\n",
    "pxam=nd.measurements.center_of_mass(imbgam,imnumam, [2,3,4,5,6,7,8])\n",
    "pxr=nd.measurements.center_of_mass(imbgr,imnumr, [3,4,5,6,7,8])\n",
    "\n",
    "\n",
    "#print yr\n",
    "\n",
    "yr=[]\n",
    "\n",
    "dx=0.2 #milimetros\n",
    "b=len(pxr)\n",
    "for i in range(b):\n",
    "    yr.append((pxr[i][0]-pxr[0][0])*dx)\n",
    "    \n",
    "\n",
    "t=[]\n",
    "f=5.3\n",
    "t0=0.0\n",
    "for i in range(len(yr)):\n",
    "    t.append(i*(1/f))\n",
    "\n",
    "      \n",
    "t2=[]\n",
    "for j in range(len(t)):\n",
    "    t2.append(t[j]*t[j])\n",
    "\n",
    "\n",
    "    \n",
    "\n",
    "print(len(yr),len(x),yr)\n",
    "#minimos cuadrados\n",
    "\n",
    "    \n",
    "x=np.array(t2)\n",
    "y=np.array(yr)\n",
    "#print(x)\n",
    "#x=np.linspace(0,15,10)\n",
    "#y=10+4.566*x+5.67*x**2+0*np.random.random(x.shape)\n",
    "\n",
    "\n",
    "f=[]\n",
    "f.append(lambda x:np.ones_like(x))\n",
    "f.append(lambda x:x)\n",
    "f.append(lambda x:x**2)\n",
    "\n",
    "Xt=[]\n",
    "\n",
    "for fu in f:\n",
    "    Xt.append(fu(x))\n",
    "    \n",
    "Xt= np.array(Xt)\n",
    "X=Xt.transpose()\n",
    "\n",
    "\n",
    "\n",
    "a = np.dot(np.dot(inv(np.dot(Xt,X)),Xt),y)\n",
    "\n",
    "#print(a)\n",
    "\n",
    "#print(lstsq(X,y)[0])\n",
    "#print(X)\n",
    "\n",
    "plot(y,x)\n",
    "\n",
    "y1=0\n",
    "for n,ac in enumerate(a):\n",
    "    #print n, ac,x\n",
    "    y1=y1+ac*x**n\n",
    "    #print y1\n",
    "plot(y1,x)\n",
    "plt.ylabel(\"t2\")\n",
    "plt.xlabel(\"y(altura)\")\n",
    "\n",
    "show()\n",
    "print(a)\n",
    "\n",
    "#corregir el inicio, revisar el cuaderno donde estan l0os calculos de x0 y t0\n",
    "#se supone que al agragar eso deberia dar la gravedad"
   ]
  },
  {
   "cell_type": "code",
   "execution_count": 139,
   "metadata": {},
   "outputs": [
    {
     "data": {
      "text/plain": [
       "-71.63911565804634"
      ]
     },
     "execution_count": 139,
     "metadata": {},
     "output_type": "execute_result"
    }
   ],
   "source": [
    "a[2]"
   ]
  },
  {
   "cell_type": "code",
   "execution_count": 140,
   "metadata": {},
   "outputs": [
    {
     "data": {
      "text/plain": [
       "-0.14327823131609269"
      ]
     },
     "execution_count": 140,
     "metadata": {},
     "output_type": "execute_result"
    }
   ],
   "source": [
    "a[2]*2/(100*10)"
   ]
  },
  {
   "cell_type": "code",
   "execution_count": 141,
   "metadata": {},
   "outputs": [
    {
     "data": {
      "text/plain": [
       "9800.000000000002"
      ]
     },
     "execution_count": 141,
     "metadata": {},
     "output_type": "execute_result"
    }
   ],
   "source": [
    "9.8*100*10"
   ]
  },
  {
   "cell_type": "code",
   "execution_count": 142,
   "metadata": {},
   "outputs": [
    {
     "data": {
      "text/plain": [
       "[0.0,\n",
       " 0.18867924528301888,\n",
       " 0.37735849056603776,\n",
       " 0.5660377358490567,\n",
       " 0.7547169811320755,\n",
       " 0.9433962264150944]"
      ]
     },
     "execution_count": 142,
     "metadata": {},
     "output_type": "execute_result"
    }
   ],
   "source": [
    "t"
   ]
  },
  {
   "cell_type": "code",
   "execution_count": 143,
   "metadata": {},
   "outputs": [
    {
     "data": {
      "text/plain": [
       "[0.0,\n",
       " 0.0355998576005696,\n",
       " 0.1423994304022784,\n",
       " 0.3203987184051265,\n",
       " 0.5695977216091136,\n",
       " 0.8899964400142399]"
      ]
     },
     "execution_count": 143,
     "metadata": {},
     "output_type": "execute_result"
    }
   ],
   "source": [
    "t2"
   ]
  },
  {
   "cell_type": "code",
   "execution_count": 144,
   "metadata": {
    "scrolled": true
   },
   "outputs": [
    {
     "data": {
      "text/plain": [
       "[0.0,\n",
       " 15.716280608611157,\n",
       " 31.88323798320786,\n",
       " 51.28323798320786,\n",
       " 70.89526455128131,\n",
       " 94.17962065829806]"
      ]
     },
     "execution_count": 144,
     "metadata": {},
     "output_type": "execute_result"
    }
   ],
   "source": [
    "yr"
   ]
  },
  {
   "cell_type": "code",
   "execution_count": 57,
   "metadata": {},
   "outputs": [
    {
     "data": {
      "image/png": "[encoded data removed]",
      "text/plain": [
       "<Figure size 432x288 with 1 Axes>"
      ]
     },
     "metadata": {},
     "output_type": "display_data"
    }
   ],
   "source": [
    "import matplotlib.pyplot as plt\n",
    "plot(yr,t2,\"bo\")\n",
    "show()\n"
   ]
  },
  {
   "cell_type": "code",
   "execution_count": 145,
   "metadata": {},
   "outputs": [
    {
     "data": {
      "text/plain": [
       "([0.0,\n",
       "  15.716280608611157,\n",
       "  31.88323798320786,\n",
       "  51.28323798320786,\n",
       "  70.89526455128131,\n",
       "  94.17962065829806],\n",
       " [0.0,\n",
       "  0.0355998576005696,\n",
       "  0.1423994304022784,\n",
       "  0.3203987184051265,\n",
       "  0.5695977216091136,\n",
       "  0.8899964400142399])"
      ]
     },
     "execution_count": 145,
     "metadata": {},
     "output_type": "execute_result"
    }
   ],
   "source": [
    "yr,t2"
   ]
  },
  {
   "cell_type": "code",
   "execution_count": 59,
   "metadata": {},
   "outputs": [
    {
     "data": {
      "text/plain": [
       "447.80007747415436"
      ]
     },
     "execution_count": 59,
     "metadata": {},
     "output_type": "execute_result"
    }
   ],
   "source": [
    "31.883237983207859*2/(0.1423994304022784)"
   ]
  },
  {
   "cell_type": "code",
   "execution_count": 60,
   "metadata": {},
   "outputs": [
    {
     "data": {
      "text/plain": [
       "882.9406445917748"
      ]
     },
     "execution_count": 60,
     "metadata": {},
     "output_type": "execute_result"
    }
   ],
   "source": [
    "15.716280608611157*2/(0.0355998576005696)"
   ]
  },
  {
   "cell_type": "code",
   "execution_count": 146,
   "metadata": {},
   "outputs": [
    {
     "data": {
      "image/png": "[encoded data removed]",
      "text/plain": [
       "<Figure size 432x288 with 2 Axes>"
      ]
     },
     "metadata": {},
     "output_type": "display_data"
    }
   ],
   "source": [
    "imshow(imnumr,cmap=\"gray\")\n",
    "colorbar()\n",
    "show()\n"
   ]
  },
  {
   "cell_type": "code",
   "execution_count": 147,
   "metadata": {},
   "outputs": [
    {
     "data": {
      "text/plain": [
       "[(256.09069045099915, 307.44535828985113),\n",
       " (334.67209349405493, 305.9598330794679),\n",
       " (415.50688036703843, 304.3322305885573),\n",
       " (512.5068803670384, 303.3322305885573),\n",
       " (610.5670132074057, 302.59696715950884),\n",
       " (726.9887937424894, 300.5525931685678)]"
      ]
     },
     "execution_count": 147,
     "metadata": {},
     "output_type": "execute_result"
    }
   ],
   "source": [
    "pxr"
   ]
  },
  {
   "cell_type": "code",
   "execution_count": 134,
   "metadata": {},
   "outputs": [
    {
     "data": {
      "text/plain": [
       "1.1028301886792453"
      ]
     },
     "execution_count": 134,
     "metadata": {},
     "output_type": "execute_result"
    }
   ],
   "source": [
    "1/5.3*5.845"
   ]
  },
  {
   "cell_type": "code",
   "execution_count": 65,
   "metadata": {},
   "outputs": [
    {
     "data": {
      "text/plain": [
       "256.09069045099915"
      ]
     },
     "execution_count": 65,
     "metadata": {},
     "output_type": "execute_result"
    }
   ],
   "source": [
    "pxr[0][0]"
   ]
  },
  {
   "cell_type": "code",
   "execution_count": 137,
   "metadata": {},
   "outputs": [
    {
     "data": {
      "text/plain": [
       "332.91789758629886"
      ]
     },
     "execution_count": 137,
     "metadata": {},
     "output_type": "execute_result"
    }
   ],
   "source": [
    "0.5*9810*6.5*t0*t0"
   ]
  },
  {
   "cell_type": "code",
   "execution_count": 98,
   "metadata": {},
   "outputs": [
    {
     "data": {
      "text/plain": [
       "0.10218623250815129"
      ]
     },
     "execution_count": 98,
     "metadata": {},
     "output_type": "execute_result"
    }
   ],
   "source": [
    "t0=pow(2*0.2*pxr[0][0]/9810,0.5)\n",
    "t0"
   ]
  },
  {
   "cell_type": "code",
   "execution_count": 110,
   "metadata": {},
   "outputs": [
    {
     "data": {
      "text/plain": [
       "1002.4469409049641"
      ]
     },
     "execution_count": 110,
     "metadata": {},
     "output_type": "execute_result"
    }
   ],
   "source": [
    "v0=9810*pow(2*0.2*pxr[0][0]/9810,0.5)\n",
    "v0"
   ]
  },
  {
   "cell_type": "code",
   "execution_count": 103,
   "metadata": {},
   "outputs": [
    {
     "data": {
      "text/plain": [
       "1002.4469409049641"
      ]
     },
     "execution_count": 103,
     "metadata": {},
     "output_type": "execute_result"
    }
   ],
   "source": [
    "v1=pow(2*9810*0.2*pxr[0][0],0.5)\n",
    "v1"
   ]
  },
  {
   "cell_type": "code",
   "execution_count": 120,
   "metadata": {},
   "outputs": [
    {
     "data": {
      "text/plain": [
       "819.4902094431972"
      ]
     },
     "execution_count": 120,
     "metadata": {},
     "output_type": "execute_result"
    }
   ],
   "source": [
    "xk=pxr[0][0]*0.2+v0*3*t0+0.5*9810*pow(3*t0,2)\n",
    "xk"
   ]
  },
  {
   "cell_type": "code",
   "execution_count": 115,
   "metadata": {},
   "outputs": [
    {
     "data": {
      "text/plain": [
       "256.09069045099915"
      ]
     },
     "execution_count": 115,
     "metadata": {},
     "output_type": "execute_result"
    }
   ],
   "source": [
    "xk/0.2"
   ]
  },
  {
   "cell_type": "code",
   "execution_count": null,
   "metadata": {},
   "outputs": [],
   "source": []
  }
 ],
 "metadata": {
  "anaconda-cloud": {},
  "kernelspec": {
   "display_name": "Python 3",
   "language": "python",
   "name": "python3"
  },
  "language_info": {
   "codemirror_mode": {
    "name": "ipython",
    "version": 3
   },
   "file_extension": ".py",
   "mimetype": "text/x-python",
   "name": "python",
   "nbconvert_exporter": "python",
   "pygments_lexer": "ipython3",
   "version": "3.6.5"
  }
 },
 "nbformat": 4,
 "nbformat_minor": 1
}
