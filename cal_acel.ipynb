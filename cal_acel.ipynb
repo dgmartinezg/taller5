{
 "cells": [
  {
   "cell_type": "code",
   "execution_count": 1,
   "metadata": {},
   "outputs": [
    {
     "name": "stdout",
     "output_type": "stream",
     "text": [
      "Using matplotlib backend: Qt5Agg\n",
      "Populating the interactive namespace from numpy and matplotlib\n"
     ]
    },
    {
     "name": "stderr",
     "output_type": "stream",
     "text": [
      "C:\\ProgramData\\Anaconda3\\lib\\site-packages\\IPython\\core\\magics\\pylab.py:160: UserWarning: pylab import has clobbered these variables: ['power', 'info', 'linalg', 'random', 'fft']\n",
      "`%matplotlib` prevents importing * from pylab and numpy\n",
      "  \"\\n`%matplotlib` prevents importing * from pylab and numpy\"\n"
     ]
    }
   ],
   "source": [
    "import scipy.ndimage as nd\n",
    "from scipy.misc import imread \n",
    "\n",
    "import numpy as np\n",
    "from numpy.linalg import inv,lstsq\n",
    "from pylab import *\n",
    "%pylab \n"
   ]
  },
  {
   "cell_type": "code",
   "execution_count": 52,
   "metadata": {},
   "outputs": [],
   "source": [
    "def cal_acel(imname,dx,f ):\n",
    "    imagen=imread(imname) #leer la imagen\n",
    "    imfloat=np.asarray(imagen,dtype=np.float32) #overtir a punto flotante \n",
    "    imgrey=(imfloat[:,:,0]+imfloat[:,:,1]+imfloat[:,:,2])/3 #escala de grices \n",
    "    imfil=nd.median_filter(imgrey,(3,3)) #filtrar imagen \n",
    "    imbin=where(imfil<50,0,255) #binarizar\n",
    "    imnum,n=nd.label(imbin) #etiquetar las bolas \n",
    "    px=nd.measurements.center_of_mass(imgrey,imnum, [3,4,5,6,7,8]) #encontrar los centros de masa\n",
    "    \n",
    "    \n",
    "    v0=9810*pow(2*0.2*px[0][0]/9810,0.5) #velocidad inicial y posicion inicial \n",
    "    x0=px[0][0]*dx\n",
    "    \n",
    "    y=[]\n",
    "    b=len(px)\n",
    "    for i in range(b):\n",
    "        y.append((px[i][0]*dx))\n",
    "    \n",
    "    t=[]\n",
    "    for i in range(len(y)):\n",
    "        t.append(i*(1/f))\n",
    "\n",
    "    t2=[]\n",
    "    for j in range(len(t)):\n",
    "        t2.append(t[j]*t[j])\n",
    "\n",
    "\n",
    "    #print(len(y),len(t2))\n",
    "    #print(y)\n",
    "    #minimos cuadrados\n",
    "\n",
    "\n",
    "    x=np.array(t2)\n",
    "    y=np.array(y)\n",
    "\n",
    "    #x=np.linspace(0,15,10)\n",
    "    #y=10+4.566*x+5.67*x**2+0*np.random.random(x.shape)\n",
    "\n",
    "\n",
    "    f=[]\n",
    "    f.append(lambda x:np.ones_like(x))\n",
    "    f.append(lambda x:x)\n",
    "    f.append(lambda x:x**2)\n",
    "\n",
    "    Xt=[]\n",
    "\n",
    "    for fu in f:\n",
    "        Xt.append(fu(x))\n",
    "\n",
    "    Xt= np.array(Xt)\n",
    "    X=Xt.transpose()\n",
    "\n",
    "\n",
    "\n",
    "    a = np.dot(np.dot(inv(np.dot(Xt,X)),Xt),y)\n",
    "\n",
    "    #print( a)\n",
    "\n",
    "    #print(lstsq(X,y)[0])\n",
    "    #print(X)\n",
    "\n",
    "    plot(y,x)\n",
    "\n",
    "    y1=0\n",
    "    for n,ac in enumerate(a):\n",
    "        #print n, ac,x\n",
    "        y1=y1+ac*x**n\n",
    "        #print y1\n",
    "    plot(y1,x)\n",
    "    plt.ylabel(\"t2\")\n",
    "    plt.xlabel(\"y(altura)\")\n",
    "\n",
    "    show()\n",
    " \n",
    "    \n",
    "    return (a , y, t2)"
   ]
  },
  {
   "cell_type": "code",
   "execution_count": 56,
   "metadata": {},
   "outputs": [
    {
     "data": {
      "image/png": "[encoded data removed]",
      "text/plain": [
       "<Figure size 432x288 with 1 Axes>"
      ]
     },
     "metadata": {},
     "output_type": "display_data"
    },
    {
     "data": {
      "text/plain": [
       "(array([   57.54008682,  1856.16361289, -9522.34165257]),\n",
       " array([ 51.25748756,  67.01758967,  83.14143227, 102.54143227,\n",
       "        122.1388788 , 145.42840448]),\n",
       " [0.0,\n",
       "  0.0030864197530864196,\n",
       "  0.012345679012345678,\n",
       "  0.027777777777777776,\n",
       "  0.04938271604938271,\n",
       "  0.0771604938271605])"
      ]
     },
     "execution_count": 56,
     "metadata": {},
     "output_type": "execute_result"
    }
   ],
   "source": [
    "\n",
    "cal_acel(\"Bolas2.tif\",0.2,18 )"
   ]
  },
  {
   "cell_type": "code",
   "execution_count": null,
   "metadata": {},
   "outputs": [],
   "source": []
  },
  {
   "cell_type": "code",
   "execution_count": null,
   "metadata": {
    "collapsed": true
   },
   "outputs": [],
   "source": []
  }
 ],
 "metadata": {
  "anaconda-cloud": {},
  "kernelspec": {
   "display_name": "Python 3",
   "language": "python",
   "name": "python3"
  },
  "language_info": {
   "codemirror_mode": {
    "name": "ipython",
    "version": 3
   },
   "file_extension": ".py",
   "mimetype": "text/x-python",
   "name": "python",
   "nbconvert_exporter": "python",
   "pygments_lexer": "ipython3",
   "version": "3.6.5"
  }
 },
 "nbformat": 4,
 "nbformat_minor": 1
}
